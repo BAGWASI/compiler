{
  "nbformat": 4,
  "nbformat_minor": 0,
  "metadata": {
    "colab": {
      "provenance": [],
      "authorship_tag": "ABX9TyPPKRaK9WDvRBj+03y+IcKp",
      "include_colab_link": true
    },
    "kernelspec": {
      "name": "python3",
      "display_name": "Python 3"
    },
    "language_info": {
      "name": "python"
    }
  },
  "cells": [
    {
      "cell_type": "markdown",
      "metadata": {
        "id": "view-in-github",
        "colab_type": "text"
      },
      "source": [
        "<a href=\"https://colab.research.google.com/github/BAGWASI/compiler/blob/main/TASK3.ipynb\" target=\"_parent\"><img src=\"https://colab.research.google.com/assets/colab-badge.svg\" alt=\"Open In Colab\"/></a>"
      ]
    },
    {
      "cell_type": "code",
      "execution_count": 17,
      "metadata": {
        "id": "T8VwzQ6kZQ5x"
      },
      "outputs": [],
      "source": [
        "def first_set(cfg, non_terminal):\n",
        "  first_set = set()\n",
        "  for production_rule in cfg[non_terminal]:\n",
        "    if production_rule[0] in cfg:\n",
        "      first_set.update(first_set(cfg, production_rule[0]))\n",
        "    else:\n",
        "      first_set.add(production_rule[0])\n",
        "\n",
        "  return first_set"
      ]
    },
    {
      "cell_type": "code",
      "source": [
        "def follow_set(cfg, non_terminal):\n",
        "  follow_set = set()\n",
        "  if 'start_symbol' in cfg and non_terminal == cfg['start_symbol']:\n",
        "    follow_set.add('$')\n",
        "  if non_terminal == cfg['start_symbol']:\n",
        "    follow_set.add('$')\n",
        "\n",
        "  for production_rule in cfg.values():\n",
        "        for symbol in production_rule:\n",
        "            if symbol == non_terminal:\n",
        "                if len(production_rule) > production_rule.index(symbol) + 1:\n",
        "                    follow_set.update(first_set(cfg, production_rule[production_rule.index(symbol) + 1]))\n",
        "                else:\n",
        "                    follow_set.update(follow_set(cfg, production_rule[0]))\n",
        "\n",
        "  return follow_set"
      ],
      "metadata": {
        "id": "xJMZbEx2ZnNh"
      },
      "execution_count": 33,
      "outputs": []
    },
    {
      "cell_type": "code",
      "source": [
        "def construct_ll1_table(cfg):\n",
        "    ll1_table = {non_terminal: {} for non_terminal in cfg}\n",
        "\n",
        "    for non_terminal in cfg:\n",
        "        first = first_set(cfg, non_terminal)\n",
        "        follow = follow_set(cfg, non_terminal)\n",
        "\n",
        "        for terminal in first:\n",
        "            if terminal in ll1_table[non_terminal]:\n",
        "                return None  # Grammar is not LL(1).\n",
        "\n",
        "            ll1_table[non_terminal][terminal] = 'shift'\n",
        "\n",
        "        if 'ε' in first:\n",
        "            for terminal in follow:\n",
        "                ll1_table[non_terminal][terminal] = 'reduce'\n",
        "\n",
        "            if '$' in follow:\n",
        "                ll1_table[non_terminal]['$'] = 'accept'\n",
        "\n",
        "    return ll1_table\n",
        "\n",
        "\n"
      ],
      "metadata": {
        "id": "fX3-oiVEaCyR"
      },
      "execution_count": 38,
      "outputs": []
    },
    {
      "cell_type": "code",
      "source": [
        "def print_ll1_table(ll1_table):\n",
        "  print('Parsing Table:')\n",
        "\n",
        "  print('Non-terminal | Terminal | Action')\n",
        "  for non_terminal, row in ll1_table.items():\n",
        "    for terminal, action in row.items():\n",
        "      print('{:12} {:12} {:12}'.format(non_terminal, terminal, action))\n"
      ],
      "metadata": {
        "id": "EVAdDbWvaYPY"
      },
      "execution_count": 39,
      "outputs": []
    },
    {
      "cell_type": "code",
      "source": [
        "def main():\n",
        "\n",
        "\n",
        "  # Create a CFG.\n",
        "  cfg = {\n",
        "    'S': ['aSa', 'b'],\n",
        "    'A': ['ε'],\n",
        "  }\n",
        "\n",
        "  # Specify the start symbol.\n",
        "  cfg['start_symbol'] = 'S'\n",
        "\n",
        "  # Construct the LL(1) table.\n",
        "  ll1_table = construct_ll1_table(cfg)\n",
        "\n",
        "  # Print the LL(1) table.\n",
        "  print_ll1_table(ll1_table)\n",
        "\n",
        "\n",
        "if __name__ == '__main__':\n",
        "  main()\n"
      ],
      "metadata": {
        "colab": {
          "base_uri": "https://localhost:8080/",
          "height": 598
        },
        "id": "OulTc5uKaxjR",
        "outputId": "93c97c82-c5b1-4d39-874d-d716d65d710f"
      },
      "execution_count": 44,
      "outputs": [
        {
          "output_type": "error",
          "ename": "TypeError",
          "evalue": "ignored",
          "traceback": [
            "\u001b[0;31m---------------------------------------------------------------------------\u001b[0m",
            "\u001b[0;31mTypeError\u001b[0m                                 Traceback (most recent call last)",
            "\u001b[0;32m<ipython-input-44-744af2a33257>\u001b[0m in \u001b[0;36m<cell line: 20>\u001b[0;34m()\u001b[0m\n\u001b[1;32m     19\u001b[0m \u001b[0;34m\u001b[0m\u001b[0m\n\u001b[1;32m     20\u001b[0m \u001b[0;32mif\u001b[0m \u001b[0m__name__\u001b[0m \u001b[0;34m==\u001b[0m \u001b[0;34m'__main__'\u001b[0m\u001b[0;34m:\u001b[0m\u001b[0;34m\u001b[0m\u001b[0;34m\u001b[0m\u001b[0m\n\u001b[0;32m---> 21\u001b[0;31m   \u001b[0mmain\u001b[0m\u001b[0;34m(\u001b[0m\u001b[0;34m)\u001b[0m\u001b[0;34m\u001b[0m\u001b[0;34m\u001b[0m\u001b[0m\n\u001b[0m",
            "\u001b[0;32m<ipython-input-44-744af2a33257>\u001b[0m in \u001b[0;36mmain\u001b[0;34m()\u001b[0m\n\u001b[1;32m     12\u001b[0m \u001b[0;34m\u001b[0m\u001b[0m\n\u001b[1;32m     13\u001b[0m   \u001b[0;31m# Construct the LL(1) table.\u001b[0m\u001b[0;34m\u001b[0m\u001b[0;34m\u001b[0m\u001b[0m\n\u001b[0;32m---> 14\u001b[0;31m   \u001b[0mll1_table\u001b[0m \u001b[0;34m=\u001b[0m \u001b[0mconstruct_ll1_table\u001b[0m\u001b[0;34m(\u001b[0m\u001b[0mcfg\u001b[0m\u001b[0;34m)\u001b[0m\u001b[0;34m\u001b[0m\u001b[0;34m\u001b[0m\u001b[0m\n\u001b[0m\u001b[1;32m     15\u001b[0m \u001b[0;34m\u001b[0m\u001b[0m\n\u001b[1;32m     16\u001b[0m   \u001b[0;31m# Print the LL(1) table.\u001b[0m\u001b[0;34m\u001b[0m\u001b[0;34m\u001b[0m\u001b[0m\n",
            "\u001b[0;32m<ipython-input-38-fb526d618dcf>\u001b[0m in \u001b[0;36mconstruct_ll1_table\u001b[0;34m(cfg)\u001b[0m\n\u001b[1;32m      4\u001b[0m     \u001b[0;32mfor\u001b[0m \u001b[0mnon_terminal\u001b[0m \u001b[0;32min\u001b[0m \u001b[0mcfg\u001b[0m\u001b[0;34m:\u001b[0m\u001b[0;34m\u001b[0m\u001b[0;34m\u001b[0m\u001b[0m\n\u001b[1;32m      5\u001b[0m         \u001b[0mfirst\u001b[0m \u001b[0;34m=\u001b[0m \u001b[0mfirst_set\u001b[0m\u001b[0;34m(\u001b[0m\u001b[0mcfg\u001b[0m\u001b[0;34m,\u001b[0m \u001b[0mnon_terminal\u001b[0m\u001b[0;34m)\u001b[0m\u001b[0;34m\u001b[0m\u001b[0;34m\u001b[0m\u001b[0m\n\u001b[0;32m----> 6\u001b[0;31m         \u001b[0mfollow\u001b[0m \u001b[0;34m=\u001b[0m \u001b[0mfollow_set\u001b[0m\u001b[0;34m(\u001b[0m\u001b[0mcfg\u001b[0m\u001b[0;34m,\u001b[0m \u001b[0mnon_terminal\u001b[0m\u001b[0;34m)\u001b[0m\u001b[0;34m\u001b[0m\u001b[0;34m\u001b[0m\u001b[0m\n\u001b[0m\u001b[1;32m      7\u001b[0m \u001b[0;34m\u001b[0m\u001b[0m\n\u001b[1;32m      8\u001b[0m         \u001b[0;32mfor\u001b[0m \u001b[0mterminal\u001b[0m \u001b[0;32min\u001b[0m \u001b[0mfirst\u001b[0m\u001b[0;34m:\u001b[0m\u001b[0;34m\u001b[0m\u001b[0;34m\u001b[0m\u001b[0m\n",
            "\u001b[0;32m<ipython-input-33-dbed29478746>\u001b[0m in \u001b[0;36mfollow_set\u001b[0;34m(cfg, non_terminal)\u001b[0m\n\u001b[1;32m     12\u001b[0m                     \u001b[0mfollow_set\u001b[0m\u001b[0;34m.\u001b[0m\u001b[0mupdate\u001b[0m\u001b[0;34m(\u001b[0m\u001b[0mfirst_set\u001b[0m\u001b[0;34m(\u001b[0m\u001b[0mcfg\u001b[0m\u001b[0;34m,\u001b[0m \u001b[0mproduction_rule\u001b[0m\u001b[0;34m[\u001b[0m\u001b[0mproduction_rule\u001b[0m\u001b[0;34m.\u001b[0m\u001b[0mindex\u001b[0m\u001b[0;34m(\u001b[0m\u001b[0msymbol\u001b[0m\u001b[0;34m)\u001b[0m \u001b[0;34m+\u001b[0m \u001b[0;36m1\u001b[0m\u001b[0;34m]\u001b[0m\u001b[0;34m)\u001b[0m\u001b[0;34m)\u001b[0m\u001b[0;34m\u001b[0m\u001b[0;34m\u001b[0m\u001b[0m\n\u001b[1;32m     13\u001b[0m                 \u001b[0;32melse\u001b[0m\u001b[0;34m:\u001b[0m\u001b[0;34m\u001b[0m\u001b[0;34m\u001b[0m\u001b[0m\n\u001b[0;32m---> 14\u001b[0;31m                     \u001b[0mfollow_set\u001b[0m\u001b[0;34m.\u001b[0m\u001b[0mupdate\u001b[0m\u001b[0;34m(\u001b[0m\u001b[0mfollow_set\u001b[0m\u001b[0;34m(\u001b[0m\u001b[0mcfg\u001b[0m\u001b[0;34m,\u001b[0m \u001b[0mproduction_rule\u001b[0m\u001b[0;34m[\u001b[0m\u001b[0;36m0\u001b[0m\u001b[0;34m]\u001b[0m\u001b[0;34m)\u001b[0m\u001b[0;34m)\u001b[0m\u001b[0;34m\u001b[0m\u001b[0;34m\u001b[0m\u001b[0m\n\u001b[0m\u001b[1;32m     15\u001b[0m \u001b[0;34m\u001b[0m\u001b[0m\n\u001b[1;32m     16\u001b[0m   \u001b[0;32mreturn\u001b[0m \u001b[0mfollow_set\u001b[0m\u001b[0;34m\u001b[0m\u001b[0;34m\u001b[0m\u001b[0m\n",
            "\u001b[0;31mTypeError\u001b[0m: 'set' object is not callable"
          ]
        }
      ]
    }
  ]
}